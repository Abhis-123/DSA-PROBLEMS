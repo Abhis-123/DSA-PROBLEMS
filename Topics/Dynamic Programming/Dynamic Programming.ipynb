{
 "cells": [
  {
   "cell_type": "markdown",
   "metadata": {},
   "source": [
    "# Coin Change Problem "
   ]
  },
  {
   "cell_type": "markdown",
   "metadata": {},
   "source": [
    "### Memoization"
   ]
  },
  {
   "cell_type": "code",
   "execution_count": 17,
   "metadata": {},
   "outputs": [],
   "source": [
    "import numpy as np"
   ]
  },
  {
   "cell_type": "code",
   "execution_count": 14,
   "metadata": {},
   "outputs": [
    {
     "data": {
      "text/plain": [
       "24"
      ]
     },
     "execution_count": 14,
     "metadata": {},
     "output_type": "execute_result"
    }
   ],
   "source": [
    "\n",
    "\n",
    "def coin_change_memoization(coins, amount, index, dp):\n",
    "    if amount == 0:\n",
    "        return 0\n",
    "    if amount < 0 or index < 0:\n",
    "        return 100000000\n",
    "    if dp[amount][index]!=-1:\n",
    "        return dp[amount][index]\n",
    "\n",
    "    dp[amount][index] = min(coin_change_memoization(coins, amount, index-1, dp), 1+coin_change_memoization(coins, amount-coins[index],index,dp))\n",
    "    return dp[amount][index]\n",
    "\n",
    "\n",
    "coins = [411,412,413,414,415,416,417,418,419,420,421,422]\n",
    "amount = 9864\n",
    "\n",
    "dp = [[-1 for i in range(coins.__len__()+1)] for j in range(amount+1)]\n",
    "coin_change_memoization(coins, amount,coins.__len__()-1,dp)"
   ]
  },
  {
   "cell_type": "markdown",
   "metadata": {},
   "source": [
    "### Tabulation"
   ]
  },
  {
   "cell_type": "code",
   "execution_count": 39,
   "metadata": {},
   "outputs": [
    {
     "data": {
      "text/plain": [
       "3"
      ]
     },
     "execution_count": 39,
     "metadata": {},
     "output_type": "execute_result"
    }
   ],
   "source": [
    "def coin_change_tabulation(coins, amount):\n",
    "    dp =np.array([[0 for i in range(amount+1)] for j in range(coins.__len__()+1)])\n",
    "    for i in range(amount+1):\n",
    "        dp[0][i] = 10000000\n",
    "    \n",
    "    for i in range(1,coins.__len__()+1): \n",
    "        for j in range(1,amount+1):\n",
    "            if coins[i-1]>j:\n",
    "                dp[i,j] =0+ dp[i-1][j]\n",
    "            else:\n",
    "                dp[i,j] = min(dp[i-1][j], 1+dp[i][j-coins[i-1]]) \n",
    "\n",
    "\n",
    "    return dp[coins.__len__()][amount]\n",
    "\n",
    "    \n",
    "coins = [1,2,5]\n",
    "amount = 11\n",
    "coin_change_tabulation(coins, amount)"
   ]
  },
  {
   "cell_type": "code",
   "execution_count": 7,
   "metadata": {},
   "outputs": [
    {
     "data": {
      "text/plain": [
       "100000"
      ]
     },
     "execution_count": 7,
     "metadata": {},
     "output_type": "execute_result"
    }
   ],
   "source": [
    "class Solution:\n",
    "    def longestConsecutive(self, nums) -> int:\n",
    "        n = nums.__len__()\n",
    "        if n<=1:\n",
    "            return n\n",
    "        num_set1 = set(nums)\n",
    "        num_set2 = set()\n",
    "        i =0\n",
    "        max_len = 1\n",
    "        while i<n:\n",
    "            current_num = nums[i]\n",
    "            if current_num not in num_set2:\n",
    "                current_max =1 \n",
    "                num_set2.add(current_num)\n",
    "                while(current_num+1 in num_set1):\n",
    "                    current_max +=1\n",
    "                    current_num+=1\n",
    "                    num_set2.add(current_num)\n",
    "                max_len = max(current_max, max_len)\n",
    "            i+=1 \n",
    "        return max_len\n",
    "\n",
    "\n",
    "\n",
    "Solution().longestConsecutive(list(range(100000)))"
   ]
  },
  {
   "cell_type": "markdown",
   "metadata": {},
   "source": [
    "### Trapping Rain Water "
   ]
  },
  {
   "cell_type": "code",
   "execution_count": 13,
   "metadata": {},
   "outputs": [
    {
     "name": "stdout",
     "output_type": "stream",
     "text": [
      "[0, 1, 1, 2, 2, 2, 2, 3, 3, 3, 3, 3]\n",
      "[0, 3, 3, 3, 3, 3, 3, 3, 2, 2, 2, 1]\n",
      "[0, 1, 0, 2, 1, 0, 1, 3, 2, 1, 2, 1]\n"
     ]
    },
    {
     "data": {
      "text/plain": [
       "6"
      ]
     },
     "execution_count": 13,
     "metadata": {},
     "output_type": "execute_result"
    }
   ],
   "source": [
    "class Solution:\n",
    "    def trap(self, height):\n",
    "        n = len(height)\n",
    "        right = [0]*n \n",
    "        right[n-1] = height[n-1] \n",
    "\n",
    "        left  = [0]*n\n",
    "        left[0] = height[0]\n",
    "\n",
    "        for i in range(1, n):\n",
    "            left[i] = max(left[i-1], height[i])\n",
    "        for i in range(1, n-1):\n",
    "            right[n-1-i] = max(right[n-i], height[n-1-i])\n",
    "        water =0\n",
    "        for i in range(0,n):\n",
    "            water_on_tower = min(left[i],right[i])- height[i]\n",
    "            if water_on_tower>0:\n",
    "\n",
    "                water += water_on_tower\n",
    "        return water\n",
    "\n",
    "\n",
    "Solution().trap([0,1,0,2,1,0,1,3,2,1,2,1])\n"
   ]
  },
  {
   "cell_type": "markdown",
   "metadata": {},
   "source": [
    "<?xml version=\"1.0\" encoding=\"UTF-8\"?>\n",
    "<response><success>true</success><data><item><br_id>7933991</br_id><erp_id></erp_id><error>true</error><field>route_name</field><message>Invalid Route Name - Hub_Bangalore_1_1021253_Bengaluru North</message></item></data><pagination></pagination><status>200</status></response>\n"
   ]
  },
  {
   "cell_type": "code",
   "execution_count": null,
   "metadata": {},
   "outputs": [],
   "source": []
  }
 ],
 "metadata": {
  "interpreter": {
   "hash": "b09ec625f77bf4fd762565a912b97636504ad6ec901eb2d0f4cf5a7de23e1ee5"
  },
  "kernelspec": {
   "display_name": "Python 3.8.3 ('base')",
   "language": "python",
   "name": "python3"
  },
  "language_info": {
   "codemirror_mode": {
    "name": "ipython",
    "version": 3
   },
   "file_extension": ".py",
   "mimetype": "text/x-python",
   "name": "python",
   "nbconvert_exporter": "python",
   "pygments_lexer": "ipython3",
   "version": "3.8.3"
  },
  "orig_nbformat": 4
 },
 "nbformat": 4,
 "nbformat_minor": 2
}
